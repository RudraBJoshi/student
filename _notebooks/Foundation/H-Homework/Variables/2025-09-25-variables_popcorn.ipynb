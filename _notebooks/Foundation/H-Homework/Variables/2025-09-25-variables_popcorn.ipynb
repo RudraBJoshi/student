{
 "cells": [
  {
   "cell_type": "markdown",
   "id": "8329cc7a",
   "metadata": {},
   "source": [
    "---\n",
    "layout: default\n",
    "title: Variables & Assignments\n",
    "description: Popcorn Hacks\n",
    "permalink: /VariablesPopcorn\n",
    "breadcrumb: True\n",
    "Author: Ethan Patel, Tanay Paranjpe, Neil Manjrekar, Completed by Rudra Joshi\n",
    "---"
   ]
  },
  {
   "cell_type": "code",
   "execution_count": 1,
   "id": "6843c60a",
   "metadata": {},
   "outputs": [
    {
     "name": "stdout",
     "output_type": "stream",
     "text": [
      "The snake is 5 inches long and it's orange.\n"
     ]
    }
   ],
   "source": [
    "# Finish the code \n",
    "# Example: snakeSize = 10\n",
    "snakeSize = 5   # <-- Add the size of the snake\n",
    "snakeColor = \"orange\"   # <-- Add the color of the snake\n",
    "\n",
    "# Print greeting\n",
    "print(\"The snake is \" + str(snakeSize) + \" inches long and it's \" + snakeColor + \".\")"
   ]
  },
  {
   "cell_type": "code",
   "execution_count": 2,
   "id": "4180b233",
   "metadata": {},
   "outputs": [
    {
     "name": "stdout",
     "output_type": "stream",
     "text": [
      "You Lose!\n"
     ]
    }
   ],
   "source": [
    "# # Finish the code \n",
    "# Define the win/lose messages first\n",
    "messageWin = \"You Win!\" # <-- Change this to \"You win!\"\n",
    "messageLose = \"You Lose!\" # <-- Change this to \"You lose!\"\n",
    "\n",
    "# Choose outcome\n",
    "winOrLose = \"Win\"  # <-- Change this to either \"win\" or \"lose\"\n",
    "\n",
    "# Print result\n",
    "if winOrLose == \"win\":\n",
    "    print(messageWin)\n",
    "else:\n",
    "    print(messageLose)"
   ]
  }
 ],
 "metadata": {
  "kernelspec": {
   "display_name": "venv",
   "language": "python",
   "name": "python3"
  },
  "language_info": {
   "codemirror_mode": {
    "name": "ipython",
    "version": 3
   },
   "file_extension": ".py",
   "mimetype": "text/x-python",
   "name": "python",
   "nbconvert_exporter": "python",
   "pygments_lexer": "ipython3",
   "version": "3.12.3"
  }
 },
 "nbformat": 4,
 "nbformat_minor": 5
}
