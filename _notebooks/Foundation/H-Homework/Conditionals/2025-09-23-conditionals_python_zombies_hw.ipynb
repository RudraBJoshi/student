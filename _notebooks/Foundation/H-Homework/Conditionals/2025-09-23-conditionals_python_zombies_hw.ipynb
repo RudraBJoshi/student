{
 "cells": [
  {
   "cell_type": "raw",
   "id": "65acca70",
   "metadata": {
    "vscode": {
     "languageId": "raw"
    }
   },
   "source": [
    "---\n",
    "layout: default\n",
    "title: Conditionals in Python by Ctrl-Zombies\n",
    "description: Conditionals homework in Python\n",
    "permalink: /ConditionalsPY\n",
    "Author: Aneesh Deevi, Moiz Lukmani, Perry Say\n",
    "---"
   ]
  },
  {
   "cell_type": "markdown",
   "id": "3db6febd",
   "metadata": {},
   "source": [
    "## Conditionals Python Homework\n",
    "---\n",
    "### Python Popcorn Hack\n",
    "\n"
   ]
  },
  {
   "cell_type": "code",
   "execution_count": 1,
   "id": "96d9cb22",
   "metadata": {},
   "outputs": [
    {
     "ename": "ZeroDivisionError",
     "evalue": "division by zero",
     "output_type": "error",
     "traceback": [
      "\u001b[31m---------------------------------------------------------------------------\u001b[39m",
      "\u001b[31mZeroDivisionError\u001b[39m                         Traceback (most recent call last)",
      "\u001b[36mCell\u001b[39m\u001b[36m \u001b[39m\u001b[32mIn[1]\u001b[39m\u001b[32m, line 5\u001b[39m\n\u001b[32m      2\u001b[39m number2 = \u001b[32m0\u001b[39m   \n\u001b[32m      4\u001b[39m \u001b[38;5;28;01mif\u001b[39;00m number1 != \u001b[32m0\u001b[39m:        \u001b[38;5;66;03m# fill in the condition\u001b[39;00m\n\u001b[32m----> \u001b[39m\u001b[32m5\u001b[39m     result = \u001b[43mnumber1\u001b[49m\u001b[43m \u001b[49m\u001b[43m/\u001b[49m\u001b[43m \u001b[49m\u001b[43mnumber2\u001b[49m   \u001b[38;5;66;03m# fill in the operator\u001b[39;00m\n\u001b[32m      6\u001b[39m     \u001b[38;5;28mprint\u001b[39m(\u001b[33m\"\u001b[39m\u001b[33mThe answer is\u001b[39m\u001b[33m\"\u001b[39m, result)  \u001b[38;5;66;03m# fill in what to print\u001b[39;00m\n\u001b[32m      7\u001b[39m \u001b[38;5;28;01melse\u001b[39;00m:\n",
      "\u001b[31mZeroDivisionError\u001b[39m: division by zero"
     ]
    }
   ],
   "source": [
    "number1 = 10\n",
    "number2 = 0   \n",
    "\n",
    "if number1 != 0:        # fill in the condition\n",
    "    result = number1 / number2   # fill in the operator\n",
    "    print(\"The answer is\", result)  # fill in what to print\n",
    "else:\n",
    "    print(\"Error: Cannot divide by zero!\")  # fill in the missing word"
   ]
  },
  {
   "cell_type": "markdown",
   "id": "35720ac5",
   "metadata": {},
   "source": [
    "### Part A: Answer the Question!\n",
    "What does an if statement do in programming?\n",
    "\n",
    "``Checks if parameters meet certain criteria``\n",
    "\n",
    "\n",
    "### Part B: Python Practice\n",
    "Write a Python program that checks if a number ``score = 85`` is a **passing grade** (≥ 60). Print \"Pass\" if true, otherwise ``\"Fail\"``.\n",
    "<!-- Extra Credit: Change the variables assigned values (Ex: score = 90, passing grade (≥ 20), etc). -->\n"
   ]
  },
  {
   "cell_type": "code",
   "execution_count": null,
   "id": "85cce559",
   "metadata": {},
   "outputs": [],
   "source": [
    "# <-- Example Code\n",
    "\n",
    "x = 19\n",
    "\n",
    "if x >= 18:\n",
    "    print(\"You can vote\")\n",
    "else:\n",
    "    print(\"You are too young to vote\")"
   ]
  },
  {
   "cell_type": "code",
   "execution_count": 3,
   "id": "92a69163",
   "metadata": {},
   "outputs": [
    {
     "name": "stdout",
     "output_type": "stream",
     "text": [
      "pass\n"
     ]
    }
   ],
   "source": [
    "score = 85\n",
    "if score >= 60:\n",
    "    print(\"pass\")\n",
    "else:\n",
    "    print(\"fail\")"
   ]
  }
 ],
 "metadata": {
  "kernelspec": {
   "display_name": "venv",
   "language": "python",
   "name": "python3"
  },
  "language_info": {
   "codemirror_mode": {
    "name": "ipython",
    "version": 3
   },
   "file_extension": ".py",
   "mimetype": "text/x-python",
   "name": "python",
   "nbconvert_exporter": "python",
   "pygments_lexer": "ipython3",
   "version": "3.12.3"
  }
 },
 "nbformat": 4,
 "nbformat_minor": 5
}
